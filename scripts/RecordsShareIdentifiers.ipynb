{
 "cells": [
  {
   "cell_type": "code",
   "execution_count": null,
   "metadata": {},
   "outputs": [],
   "source": []
  },
  {
   "cell_type": "raw",
   "metadata": {
    "slideshow": {
     "slide_type": "-"
    }
   },
   "source": []
  },
  {
   "cell_type": "markdown",
   "metadata": {},
   "source": [
    "### Identifying the records that share identifiers at an LTER site to determine if the concepts in the recommendation were a focus of the improvement effort of reuploading records\n",
    "\n",
    "During my analysis of LTER sites through time, I discovered while sorting records for complete examples of the conceptual LTER recommendation for Completeness (cite esip wiki) that some records in the LTER membernode of DataONE share identifiers. I thought this must be some mistake, so I compared the counts and saw the same numbers for almost every concept and element. When I investigated the content I found the same titles, identifiers, creators. I used the BNZ, BNZ_2005, BNZ_2015 as well as the AND, AND_2005, and AND_2015 reports in Excel (great for data browsing) where record names are the unique portion of the record's identifier element.\n",
    "\n",
    "I thought something must be fishy with my analysis or my dataset so I went back to the process of how I created it and decided to go back to the SOLR source. First I clarified that my dataset creation SOLR query choice to include any records made that year, regardless of if they were obsoleted. The idea was that anything published that year (and here we conflated upload and publish date a bit imho) should be reflective of the understanding of the recommendation at the time. This for example is evident in the records 1.16 1.17 and 1.18 \n",
    "\n",
    "This can make a huge difference for a site like BNZ that actively iterates on a record when it is created. In the query below, we can see that there are over 5000 records,"
   ]
  },
  {
   "cell_type": "markdown",
   "metadata": {},
   "source": [
    "http://cn.dataone.org/cn/v2/query/solr/?q=formatType:METADATA+AND+authoritativeMN:*LTER+AND+identifier:%27-lter-bnz%27&fl=obsoletes,obsoletedBy,dateUploaded,datePublished,dataUrl&rows=6446&sort=dateUploaded+asc&facet=true&facet.missing=true&facet.limit=-1&facet.range=dateUploaded&facet.range.start=2005-01-01T00:00:00Z&facet.range.end=2018-12-31T23:59:59.999Z&facet.range.gap=%2B1YEAR&wt=xml"
   ]
  },
  {
   "cell_type": "markdown",
   "metadata": {},
   "source": [
    "but when we add in the additional constraint \"-obsoletedBy:\\*\" we see fewer than half that:\n",
    "\n",
    "http://cn.dataone.org/cn/v2/query/solr/?q=formatType:METADATA+AND+authoritativeMN:*LTER+-obsoletedBy:*+AND+identifier:%27-lter-bnz%27&fl=obsoletes,obsoletedBy,dateUploaded,datePublished,dataUrl&rows=6446&sort=dateUploaded+asc&facet=true&facet.missing=true&facet.limit=-1&facet.range=dateUploaded&facet.range.start=2005-01-01T00:00:00Z&facet.range.end=2018-12-31T23:59:59.999Z&facet.range.gap=%2B1YEAR&wt=xml"
   ]
  },
  {
   "cell_type": "markdown",
   "metadata": {},
   "source": [
    "However, records that were obsoleted generally were iterated on within the year span and as such not complete reflections of the understanding of the recommendation, and probably skewed results. Take this snippet from the query above with an additional request for the record's identifier:\n",
    "\n",
    "http://cn.dataone.org/cn/v2/query/solr/?q=formatType:METADATA+AND+authoritativeMN:*LTER+-obsoletedBy:*+AND+identifier:%27-lter-bnz%27&fl=identifier,obsoletes,obsoletedBy,dateUploaded,datePublished,dataUrl&rows=6446&sort=dateUploaded+asc&facet=true&facet.missing=true&facet.limit=-1&facet.range=dateUploaded&facet.range.start=2005-01-01T00:00:00Z&facet.range.end=2018-12-31T23:59:59.999Z&facet.range.gap=%2B1YEAR&wt=xml\n",
    "\n",
    "Here we see quick iterations on a record that is then not obsoleted by anything else:"
   ]
  },
  {
   "cell_type": "markdown",
   "metadata": {},
   "source": []
  },
  {
   "cell_type": "raw",
   "metadata": {},
   "source": [
    "<doc>\n",
    "<str name=\"identifier\">knb-lter-bnz.1.16</str>\n",
    "<str name=\"obsoletes\">knb-lter-bnz.1.15</str>\n",
    "<str name=\"obsoletedBy\">knb-lter-bnz.1.17</str>\n",
    "<date name=\"dateUploaded\">2005-09-29T23:00:00Z</date>\n",
    "<str name=\"dataUrl\">\n",
    "https://cn.dataone.org/cn/v2/resolve/knb-lter-bnz.1.16\n",
    "</str>\n",
    "<date name=\"datePublished\">2005-10-06T00:00:00Z</date>\n",
    "</doc>\n",
    "<doc>\n",
    "<str name=\"identifier\">knb-lter-bnz.1.14</str>\n",
    "<str name=\"obsoletes\">knb-lter-bnz.1.13</str>\n",
    "<str name=\"obsoletedBy\">knb-lter-bnz.1.15</str>\n",
    "<date name=\"dateUploaded\">2005-09-29T23:00:00Z</date>\n",
    "<str name=\"dataUrl\">\n",
    "https://cn.dataone.org/cn/v2/resolve/knb-lter-bnz.1.14\n",
    "</str>\n",
    "<date name=\"datePublished\">2005-10-06T00:00:00Z</date>\n",
    "</doc>\n",
    "<doc>\n",
    "<str name=\"identifier\">knb-lter-bnz.1.13</str>\n",
    "<str name=\"obsoletes\">knb-lter-bnz.1.11</str>\n",
    "<str name=\"obsoletedBy\">knb-lter-bnz.1.14</str>\n",
    "<date name=\"dateUploaded\">2005-09-29T23:00:00Z</date>\n",
    "<str name=\"dataUrl\">\n",
    "https://cn.dataone.org/cn/v2/resolve/knb-lter-bnz.1.13\n",
    "</str>\n",
    "<date name=\"datePublished\">2005-10-06T00:00:00Z</date>\n",
    "<doc>\n",
    "<str name=\"identifier\">knb-lter-bnz.1.11</str>\n",
    "<str name=\"obsoletes\">doi:10.6073/AA/knb-lter-bnz.1.10</str>\n",
    "<str name=\"obsoletedBy\">knb-lter-bnz.1.13</str>\n",
    "<date name=\"dateUploaded\">2005-09-29T23:00:00Z</date>\n",
    "<str name=\"dataUrl\">\n",
    "https://cn.dataone.org/cn/v2/resolve/knb-lter-bnz.1.11\n",
    "</str>\n",
    "<date name=\"datePublished\">2005-10-06T00:00:00Z</date>\n",
    "</doc>\n",
    "<doc>\n",
    "<str name=\"identifier\">knb-lter-bnz.1.18</str>\n",
    "<str name=\"obsoletes\">knb-lter-bnz.1.17</str>\n",
    "<date name=\"dateUploaded\">2005-09-29T23:00:00Z</date>\n",
    "<str name=\"dataUrl\">\n",
    "https://cn.dataone.org/cn/v2/resolve/knb-lter-bnz.1.18\n",
    "</str>\n",
    "<date name=\"datePublished\">2005-10-06T00:00:00Z</date>\n",
    "</doc>\n",
    "<doc>\n",
    "<str name=\"identifier\">knb-lter-bnz.1.17</str>\n",
    "<str name=\"obsoletes\">knb-lter-bnz.1.16</str>\n",
    "<str name=\"obsoletedBy\">knb-lter-bnz.1.18</str>\n",
    "<date name=\"dateUploaded\">2005-09-29T23:00:00Z</date>\n",
    "<str name=\"dataUrl\">\n",
    "https://cn.dataone.org/cn/v2/resolve/knb-lter-bnz.1.17\n",
    "</str>\n",
    "<date name=\"datePublished\">2005-10-06T00:00:00Z</date>\n",
    "</doc>\n",
    "<doc>\n",
    "<str name=\"identifier\">knb-lter-bnz.1.15</str>\n",
    "<str name=\"obsoletes\">knb-lter-bnz.1.14</str>\n",
    "<str name=\"obsoletedBy\">knb-lter-bnz.1.16</str>\n",
    "<date name=\"dateUploaded\">2005-09-29T23:00:00Z</date>\n",
    "<str name=\"dataUrl\">\n",
    "https://cn.dataone.org/cn/v2/resolve/knb-lter-bnz.1.15\n",
    "</str>\n",
    "<date name=\"datePublished\">2005-10-06T00:00:00Z</date>\n",
    "</doc>"
   ]
  },
  {
   "cell_type": "markdown",
   "metadata": {},
   "source": [
    "However, when we look at the 2015 uploads we see records 1.17 and 1.18 and a new version, 1.19 are all not obsoleted by anything, but are new record versions for the same ongoing temperature measurement data at Bonanza Creek"
   ]
  },
  {
   "cell_type": "raw",
   "metadata": {},
   "source": [
    "<doc>\n",
    "<str name=\"identifier\">\n",
    "https://pasta.lternet.edu/package/metadata/eml/knb-lter-bnz/1/17\n",
    "</str>\n",
    "<date name=\"dateUploaded\">2015-02-27T06:09:00.277Z</date>\n",
    "<str name=\"dataUrl\">\n",
    "https://cn.dataone.org/cn/v2/resolve/https%3A%2F%2Fpasta.lternet.edu%2Fpackage%2Fmetadata%2Feml%2Fknb-lter-bnz%2F1%2F17\n",
    "</str>\n",
    "<date name=\"datePublished\">2005-10-06T00:00:00Z</date>\n",
    "</doc>\n",
    "<doc>\n",
    "<str name=\"identifier\">\n",
    "https://pasta.lternet.edu/package/metadata/eml/knb-lter-bnz/1/18\n",
    "</str>\n",
    "<date name=\"dateUploaded\">2015-02-27T06:10:11.701Z</date>\n",
    "<str name=\"dataUrl\">\n",
    "https://cn.dataone.org/cn/v2/resolve/https%3A%2F%2Fpasta.lternet.edu%2Fpackage%2Fmetadata%2Feml%2Fknb-lter-bnz%2F1%2F18\n",
    "</str>\n",
    "<date name=\"datePublished\">2013-05-08T00:00:00Z</date>\n",
    "</doc>\n",
    "<doc>\n",
    "<str name=\"identifier\">\n",
    "https://pasta.lternet.edu/package/metadata/eml/knb-lter-bnz/1/19\n",
    "</str>\n",
    "<date name=\"dateUploaded\">2016-02-26T01:02:10.557Z</date>\n",
    "<str name=\"dataUrl\">\n",
    "https://cn.dataone.org/cn/v2/resolve/https%3A%2F%2Fpasta.lternet.edu%2Fpackage%2Fmetadata%2Feml%2Fknb-lter-bnz%2F1%2F19\n",
    "</str>\n",
    "<date name=\"datePublished\">2016-02-19T00:00:00Z</date>\n",
    "</doc>"
   ]
  },
  {
   "cell_type": "markdown",
   "metadata": {},
   "source": [
    "When we visit the dataUrl for records named 1.18 in the analysis we see they share the same @packageId and are both unobsoleted records:\n",
    "\n",
    "https://cn.dataone.org/cn/v2/resolve/https%3A%2F%2Fpasta.lternet.edu%2Fpackage%2Fmetadata%2Feml%2Fknb-lter-bnz%2F1%2F17\n",
    "\n",
    "\n",
    "https://cn.dataone.org/cn/v2/resolve/knb-lter-bnz.1.18\n",
    "\n"
   ]
  },
  {
   "cell_type": "markdown",
   "metadata": {},
   "source": [
    "How did these records from different dataUrls get the same name so this was noticable? I decided during my data collection that I should not allow file names to contain / to clarify paths and file names. This mistake, or rather, \"... this happy little accident(cite bob ross?!)\" allowed the record name column to be matchable. Since it's probably best to identify the records that share an identifier and obsolete one of the versions for discovery result clarity, it would be difficult to trace successive versions of the same record in the post 2015 records, but the previous versions should provide a decent amount of curation guidance. This highlights the need for automation tests of content across holdings and not just for a specific record, particularly for interdisciplinary repositories that serve as a secondary point of discovery to the originating organization. It also perhaps highlights a need to utilize existing identifiers from within the record rather than assigning a repo specific id. \n",
    "\n",
    "It may also signify a need for the originating community to have oss that can directly compare the content of records from different resharing repositories focused on discovery for resources they created.\n",
    "\n",
    "Let's see if both of these trends continue in other LTER sites to determine if a new dataset should be created of just the unobsoleted records."
   ]
  },
  {
   "cell_type": "code",
   "execution_count": 4,
   "metadata": {},
   "outputs": [],
   "source": [
    "import os\n",
    "import glob\n",
    "import pandas as pd\n",
    "import MDeval as md\n"
   ]
  },
  {
   "cell_type": "code",
   "execution_count": 6,
   "metadata": {},
   "outputs": [
    {
     "ename": "SyntaxError",
     "evalue": "invalid syntax (<ipython-input-6-8f0e86cd42d1>, line 20)",
     "output_type": "error",
     "traceback": [
      "\u001b[0;36m  File \u001b[0;32m\"<ipython-input-6-8f0e86cd42d1>\"\u001b[0;36m, line \u001b[0;32m20\u001b[0m\n\u001b[0;31m    XPathOccurrenceList.sort()\u001b[0m\n\u001b[0m                      ^\u001b[0m\n\u001b[0;31mSyntaxError\u001b[0m\u001b[0;31m:\u001b[0m invalid syntax\n"
     ]
    }
   ],
   "source": [
    "@contextmanager\n",
    "def cd(newdir):\n",
    "    # create a way to easily move between directories\n",
    "    prevdir = os.getcwd()\n",
    "    os.chdir(os.path.expanduser(newdir))\n",
    "    try:\n",
    "        yield\n",
    "    finally:\n",
    "        os.chdir(prevdir)\n",
    "\n",
    "    DirectoryChoice = '../data/'\n",
    "    # change to chosen directory\n",
    "    with cd(DirectoryChoice):\n",
    "        # identify all files of a specific type (occurrence.csv)\n",
    "        CollectionComparisons = glob.glob('/**/*_XpathOccurrence.csv')\n",
    "# where to put it\n",
    "        DataDestination = (\n",
    "            '../' + Organization + '/' +\n",
    "            Organization + '_xpathOccurrence.csv'\n",
    "        XPathOccurrenceList.sort()\n",
    "        md.CombineEvaluatedMetadata(CollectionComparisons, DataDestination)"
   ]
  },
  {
   "cell_type": "code",
   "execution_count": null,
   "metadata": {},
   "outputs": [],
   "source": []
  }
 ],
 "metadata": {
  "kernelspec": {
   "display_name": "Python 3",
   "language": "python",
   "name": "python3"
  },
  "language_info": {
   "codemirror_mode": {
    "name": "ipython",
    "version": 3
   },
   "file_extension": ".py",
   "mimetype": "text/x-python",
   "name": "python",
   "nbconvert_exporter": "python",
   "pygments_lexer": "ipython3",
   "version": "3.6.4"
  }
 },
 "nbformat": 4,
 "nbformat_minor": 2
}
